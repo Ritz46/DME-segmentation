{
 "cells": [
  {
   "cell_type": "code",
   "execution_count": null,
   "id": "aadc11f5-f998-4117-9a25-c825af5a0564",
   "metadata": {
    "tags": []
   },
   "outputs": [
    {
     "name": "stdout",
     "output_type": "stream",
     "text": [
      " 6/12 [==============>...............] - ETA: 51s"
     ]
    }
   ],
   "source": [
    "import os\n",
    "import cv2\n",
    "import tensorflow as tf\n",
    "import numpy as np\n",
    "\n",
    "def dice_coef(y_true, y_pred, smooth=1):\n",
    "    intersection = tf.reduce_sum(y_true * y_pred)\n",
    "    union = tf.reduce_sum(y_true) + tf.reduce_sum(y_pred)\n",
    "    return (2.0 * intersection + smooth) / (union + smooth)\n",
    "\n",
    "tf.keras.utils.get_custom_objects()['dice_coef'] = dice_coef\n",
    "\n",
    "loaded_model = tf.keras.models.load_model(\"dme_model.h5\", custom_objects={'dice_coef': dice_coef})\n",
    "\n",
    "IMG_HEIGHT = 256\n",
    "IMG_WIDTH = 256\n",
    "\n",
    "test_dir = './test'\n",
    "\n",
    "X_test = []\n",
    "\n",
    "for folder in os.listdir(test_dir):\n",
    "    img = cv2.imread(os.path.join(test_dir, folder, 'images', folder+'.jpeg'))\n",
    "    img = cv2.cvtColor(img, cv2.COLOR_BGR2GRAY)\n",
    "    img = cv2.resize(img, (IMG_HEIGHT, IMG_WIDTH))\n",
    "    X_test.append(img)\n",
    "\n",
    "X_test = np.array(X_test)\n",
    "\n",
    "X_test = X_test / 255.0\n",
    "\n",
    "predictions = loaded_model.predict(X_test)\n"
   ]
  },
  {
   "cell_type": "code",
   "execution_count": null,
   "id": "6ecf0a76-dbaa-4154-9efa-24610b12f0a5",
   "metadata": {},
   "outputs": [],
   "source": []
  }
 ],
 "metadata": {
  "kernelspec": {
   "display_name": "Python 3 (ipykernel)",
   "language": "python",
   "name": "python3"
  },
  "language_info": {
   "codemirror_mode": {
    "name": "ipython",
    "version": 3
   },
   "file_extension": ".py",
   "mimetype": "text/x-python",
   "name": "python",
   "nbconvert_exporter": "python",
   "pygments_lexer": "ipython3",
   "version": "3.11.4"
  }
 },
 "nbformat": 4,
 "nbformat_minor": 5
}
